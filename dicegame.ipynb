{
 "cells": [
  {
   "cell_type": "markdown",
   "metadata": {},
   "source": []
  },
  {
   "cell_type": "code",
   "execution_count": 78,
   "metadata": {},
   "outputs": [],
   "source": [
    "import random"
   ]
  },
  {
   "cell_type": "code",
   "execution_count": 79,
   "metadata": {},
   "outputs": [
    {
     "name": "stdout",
     "output_type": "stream",
     "text": [
      "Lets play dice\n"
     ]
    }
   ],
   "source": [
    "print (\"Lets play dice\")"
   ]
  },
  {
   "cell_type": "code",
   "execution_count": 80,
   "metadata": {},
   "outputs": [
    {
     "name": "stdout",
     "output_type": "stream",
     "text": [
      "How many dice would you like to roll?\n"
     ]
    }
   ],
   "source": [
    "print (\"How many dice would you like to roll?\")"
   ]
  },
  {
   "cell_type": "code",
   "execution_count": 81,
   "metadata": {},
   "outputs": [],
   "source": [
    "while True: \n",
    "  try:\n",
    "      numberPicked = int(input(\"Type an number between 1 and 10: \"))\n",
    "      if(numberPicked > 0 and numberPicked < 10):\n",
    "         break\n",
    "      else:\n",
    "        print(\"Invalid input. Try again\")\n",
    "  except: \n",
    "      print(\"Please give a number\")\n",
    "\n",
    "def rollDice(amountOfDice):\n",
    "  possibleFaces = [1,2,3,4,5,6]\n",
    "  for die in range(amountOfDice):\n",
    "    roll = random.choice(possibleFaces)\n",
    "    print(\"Die\", die + 1 ,\":\", roll)"
   ]
  },
  {
   "cell_type": "code",
   "execution_count": 82,
   "metadata": {},
   "outputs": [
    {
     "name": "stdout",
     "output_type": "stream",
     "text": [
      "Die 1 : 3\n",
      "Die 2 : 2\n",
      "Die 3 : 1\n",
      "Die 4 : 6\n"
     ]
    }
   ],
   "source": [
    "rollDice(numberPicked)"
   ]
  }
 ],
 "metadata": {
  "kernelspec": {
   "display_name": "Python 3",
   "language": "python",
   "name": "python3"
  },
  "language_info": {
   "codemirror_mode": {
    "name": "ipython",
    "version": 3
   },
   "file_extension": ".py",
   "mimetype": "text/x-python",
   "name": "python",
   "nbconvert_exporter": "python",
   "pygments_lexer": "ipython3",
   "version": "3.9.2"
  },
  "orig_nbformat": 4,
  "vscode": {
   "interpreter": {
    "hash": "916dbcbb3f70747c44a77c7bcd40155683ae19c65e1c03b4aa3499c5328201f1"
   }
  }
 },
 "nbformat": 4,
 "nbformat_minor": 2
}
