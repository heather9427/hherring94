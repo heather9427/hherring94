{
 "cells": [
  {
   "cell_type": "code",
   "execution_count": 3,
   "metadata": {},
   "outputs": [],
   "source": [
    "import pandas as pd"
   ]
  },
  {
   "cell_type": "code",
   "execution_count": 4,
   "metadata": {},
   "outputs": [
    {
     "name": "stdout",
     "output_type": "stream",
     "text": [
      "              0    1                                                  2   \\\n",
      "0  United States  USA  Account ownership at a financial institution o...   \n",
      "\n",
      "                  3      55     58     61     65  \n",
      "0  FX.OWN.TOTL.MA.ZS  91.98  92.36  93.57  93.09  \n"
     ]
    }
   ],
   "source": [
    "# Define the Excel file path and sheet name\n",
    "excel_file = 'API_FX.OWN.TOTL.MA.ZS_DS2_en_excel_v2_5360650.xls'\n",
    "sheet_name = 'Data'\n",
    "\n",
    "# Define the row number to read\n",
    "row_number = 256\n",
    "\n",
    "# Read in only the specified row, excluding empty cells\n",
    "data = pd.read_excel(excel_file, sheet_name=sheet_name, header=None, skiprows=row_number-1, nrows=1)\n",
    "\n",
    "# Drop any columns containing only empty cells\n",
    "data = data.dropna(axis=1, how='all')\n",
    "\n",
    "# Print the resulting dataframe\n",
    "print(data)\n",
    "\n"
   ]
  }
 ],
 "metadata": {
  "kernelspec": {
   "display_name": "Python 3",
   "language": "python",
   "name": "python3"
  },
  "language_info": {
   "codemirror_mode": {
    "name": "ipython",
    "version": 3
   },
   "file_extension": ".py",
   "mimetype": "text/x-python",
   "name": "python",
   "nbconvert_exporter": "python",
   "pygments_lexer": "ipython3",
   "version": "3.9.2"
  },
  "orig_nbformat": 4,
  "vscode": {
   "interpreter": {
    "hash": "916dbcbb3f70747c44a77c7bcd40155683ae19c65e1c03b4aa3499c5328201f1"
   }
  }
 },
 "nbformat": 4,
 "nbformat_minor": 2
}
